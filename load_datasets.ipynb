{
 "cells": [
  {
   "cell_type": "markdown",
   "id": "5cea2c59-d718-4eee-9a3b-bcf92184c5c7",
   "metadata": {},
   "source": [
    "# Example code\n",
    "\n",
    "This script will:\n",
    "- load all datasets into memory (takes a few seconds and around 1.3GB of RAM), \n",
    "- unwrap a specific dataset,\n",
    "- preprocess it\n",
    "- calculate the ensemble pairwise distance (PWD) map from single cell matrices\n",
    "- plot it together with the pre-calculated KDE estimation of the ensemble PWD map\n",
    "\n",
    "### loading datasets\n"
   ]
  },
  {
   "cell_type": "code",
   "execution_count": 1,
   "id": "3e8d15a4-5fd0-4da2-9863-97758c380dec",
   "metadata": {},
   "outputs": [
    {
     "name": "stdout",
     "output_type": "stream",
     "text": [
      "Datasets read:6\n",
      "\n",
      "Datasets available:\n",
      "doc_wt_nc11nc12_loRes_20_perROI_3D\n",
      "doc_wt_nc14_loRes_20_perROI_3D\n",
      "doc_wt_nc11nc12_hiRes_17_3D\n",
      "doc_wt_nc14_hiRes_17_3D\n",
      "HCT116_chr21-34-37Mb_untreated\n",
      "HCT116_chr21-34-37Mb_6h auxin\n"
     ]
    }
   ],
   "source": [
    "import os\n",
    "import numpy as np\n",
    "\n",
    "data_path = '.'\n",
    "data_file = 'dictData_small_211107.npy'\n",
    "\n",
    "data = np.load(data_path + os.sep + data_file,allow_pickle=True)\n",
    "data = data[()]\n",
    "number_datasets=len(data)\n",
    "print(f'Datasets read:{number_datasets}\\n\\nDatasets available:')\n",
    "\n",
    "data_keys = list(data.keys())\n",
    "for dataset in data_keys:\n",
    "    print(f'{dataset}')\n"
   ]
  },
  {
   "cell_type": "markdown",
   "id": "3fe55020-160d-4df0-a698-1ad45a3ba055",
   "metadata": {},
   "source": [
    "### defines necessary functions"
   ]
  },
  {
   "cell_type": "code",
   "execution_count": 2,
   "id": "2e2c77b0-fb58-4cf8-97e1-785ed38eea30",
   "metadata": {},
   "outputs": [],
   "source": [
    "def shuffleMatrix2(matrix, index):\n",
    "    '''\n",
    "    this function will shuffle the barcodes if needed\n",
    "    '''\n",
    "    \n",
    "    # if matrix is 2D, add a third dim\n",
    "    numDims = len(matrix.shape)\n",
    "    if numDims == 2:\n",
    "        matrix = matrix[:,:,None]\n",
    "    \n",
    "    newSize = len(index)\n",
    "    newMatrix = np.full((newSize,newSize,matrix.shape[2]), np.NaN)\n",
    "    \n",
    "\n",
    "    if not (newSize <= matrix.shape[0]):\n",
    "        print(\"Error: shuffle size {} is larger than matrix dimensions {}\".format(newSize, matrix.shape[0]))\n",
    "        print(\"Shuffle: {} \".format(index))\n",
    "        return newMatrix\n",
    "    \n",
    "    \n",
    "    for i in range(newSize):\n",
    "        for j in range(newSize):\n",
    "            if (index[i] < matrix.shape[0]) and (index[j] < matrix.shape[0]):\n",
    "                newMatrix[i, j, :] = matrix[index[i], index[j], :]\n",
    "    \n",
    "    if numDims == 2:\n",
    "        newMatrix = newMatrix[:,:,0]\n",
    "    \n",
    "    return newMatrix"
   ]
  },
  {
   "cell_type": "markdown",
   "id": "6cb759df-247f-49da-9647-8eaada79878c",
   "metadata": {},
   "source": [
    "### Loads and preprocesses dataset"
   ]
  },
  {
   "cell_type": "code",
   "execution_count": 3,
   "id": "60fcf35b-c7cf-42cc-8d20-e7343f3f8b08",
   "metadata": {},
   "outputs": [
    {
     "name": "stdout",
     "output_type": "stream",
     "text": [
      "Processing doc_wt_nc11nc12_loRes_20_perROI_3D\n"
     ]
    },
    {
     "name": "stderr",
     "output_type": "stream",
     "text": [
      "/home/marcnol/anaconda3/lib/python3.7/site-packages/numpy/lib/nanfunctions.py:997: RuntimeWarning: All-NaN slice encountered\n",
      "  result = np.apply_along_axis(_nanmedian1d, axis, a, overwrite_input)\n"
     ]
    },
    {
     "data": {
      "text/plain": [
       "0.3"
      ]
     },
     "execution_count": 3,
     "metadata": {},
     "output_type": "execute_result"
    },
    {
     "data": {
      "image/png": "[encoded data removed]",
      "text/plain": [
       "<Figure size 432x288 with 2 Axes>"
      ]
     },
     "metadata": {
      "needs_background": "light"
     },
     "output_type": "display_data"
    }
   ],
   "source": [
    "import matplotlib.pyplot as plt\n",
    "\n",
    "distance_threshold=1\n",
    "vmin,vmax = 0.3, 0.7 # values for matrix display\n",
    "    \n",
    "# gets new dataset\n",
    "dataset_index = 0 # see list provided in first block to choose your dataset\n",
    "datasetName = data_keys[dataset_index]\n",
    "print(f'Processing {datasetName}')\n",
    "pwd_sc_raw = data[datasetName]['pwd_sc_raw']\n",
    "\n",
    "# shuffles barcode order if needed\n",
    "if 'shuffle' in data[datasetName].keys():\n",
    "    shuffle = data[datasetName]['shuffle']\n",
    "    pwd_sc_raw = shuffleMatrix2(pwd_sc_raw, shuffle)\n",
    "\n",
    "# converts to um\n",
    "conversion_to_um = data[datasetName]['conversion_to_um']\n",
    "pwd_sc_raw = conversion_to_um*pwd_sc_raw\n",
    "\n",
    "# filtrers array\n",
    "pwd_sc_raw[pwd_sc_raw > distance_threshold]=np.nan\n",
    "\n",
    "# calculates median pairwise distances using nanmean\n",
    "pwd_ensemble = np.nanmedian(pwd_sc_raw, axis=2) \n",
    "\n",
    "fig, ax = plt.subplots(1, 2)\n",
    "fig.suptitle('Ensemble PWD matrices')\n",
    "axes=ax.ravel()\n",
    "\n",
    "axes[0].imshow(pwd_ensemble, cmap='coolwarm',vmin=vmin,vmax=vmax)\n",
    "axes[0].set_title('simple median')\n",
    "\n",
    "# retrieves KDE estimation if available\n",
    "if 'KDE' in data[datasetName]:\n",
    "    KDE = data[datasetName]['KDE'] # mean pairwise distance estimated with KDE\n",
    "    axes[1].imshow(KDE, cmap='coolwarm',vmin=vmin,vmax=vmax)\n",
    "    axes[1].set_title('KDE')\n",
    "vmin"
   ]
  }
 ],
 "metadata": {
  "kernelspec": {
   "display_name": "Python 3 (ipykernel)",
   "language": "python",
   "name": "python3"
  },
  "language_info": {
   "codemirror_mode": {
    "name": "ipython",
    "version": 3
   },
   "file_extension": ".py",
   "mimetype": "text/x-python",
   "name": "python",
   "nbconvert_exporter": "python",
   "pygments_lexer": "ipython3",
   "version": "3.10.5"
  }
 },
 "nbformat": 4,
 "nbformat_minor": 5
}
